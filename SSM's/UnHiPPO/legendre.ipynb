{
 "cells": [
  {
   "cell_type": "code",
   "execution_count": 18,
   "id": "f3d21c4c",
   "metadata": {},
   "outputs": [],
   "source": [
    "from numpy.polynomial import Legendre, Polynomial\n",
    "from scipy.integrate import quad\n",
    "from scipy.optimize import approx_fprime\n",
    "from matplotlib.colors import TwoSlopeNorm\n",
    "from scipy.integrate import solve_ivp\n",
    "from scipy.linalg import expm\n",
    "import matplotlib.pyplot as pp\n",
    "import numpy as np\n"
   ]
  },
  {
   "cell_type": "code",
   "execution_count": 19,
   "id": "d3329842",
   "metadata": {},
   "outputs": [],
   "source": [
    "def leg_basis(n: int):\n",
    "    #Purpose of this is to return, the constructor is we are creating an array\n",
    "    # of n elements and the 1 value will appear at the P_n(x) position.\n",
    "    return Legendre([0] * n + [1])\n",
    "\n",
    "def inner_prod(a: Legendre, b: Legendre):\n",
    "    #Quadrature here is essentially establishing the L^2 integral within [-1,1]\n",
    "    return quad(lambda x: a(x) * b(x), -1, 1)[0]\n",
    "\n",
    "def proj_leg(f, n: int):\n",
    "    #perform Legendre projection\n",
    "    coefs = [inner_prod(f, leg_basis(i)) for i in range(n)]\n",
    "    coefs = np.array(coefs)\n",
    "\n",
    "    return (2 * np.arange(n) + 1) / 2 * coefs"
   ]
  },
  {
   "cell_type": "code",
   "execution_count": 20,
   "id": "c1d1366b",
   "metadata": {},
   "outputs": [],
   "source": [
    "def f(x):\n",
    "    return 2 * x**2 - 3 * x - 0.5\n",
    "    #return -x**2 + 1.25 * x + 0.333\n",
    "    #return x - 0.5\n",
    "    return x**4 - 0.5\n",
    "\n",
    "def coef_t(t):\n",
    "    phi = lambda x: (x + 1) / 2 * t #performs scaling from [-1, 1] to [0,t]\n",
    "    g = lambda x: f(phi(x))\n",
    "\n",
    "    return proj_leg(g, n=5)"
   ]
  },
  {
   "cell_type": "code",
   "execution_count": 21,
   "id": "8dc26486",
   "metadata": {},
   "outputs": [],
   "source": [
    "t = np.linspace(1.0, 10.0, 40)\n",
    "c = np.stack([coef_t(t_) for t_ in t]) #provides the trajectory of the Legendre projection\n",
    "dcdt = np.stack([approx_fprime(t_, coef_t)[:, 0] for t_ in t]) #numerically computes time derivative\n",
    "# of each coefficient, giving a 40 x 5 matrix. This allows us to form the differential equation\n",
    "# dc/dt = Ac_t + Bf(t)"
   ]
  },
  {
   "cell_type": "code",
   "execution_count": 22,
   "id": "b8849595",
   "metadata": {},
   "outputs": [
    {
     "data": {
      "text/plain": [
       "array([[ 3.00000022e+00,  2.99999971e+00, -4.68703869e-08,\n",
       "        -1.80284707e-08, -4.81572249e-08],\n",
       "       [-3.88888915e+00, -4.33333298e+00, -4.44444376e-01,\n",
       "         2.37734706e-08,  5.26663595e-08],\n",
       "       [ 5.66666700e+00,  6.99999956e+00,  1.33333324e+00,\n",
       "        -2.91401017e-08, -6.11244382e-08],\n",
       "       [ 1.06812376e-13,  1.23602531e-13,  1.67901687e-14,\n",
       "        -5.95696655e-22, -1.34027663e-21],\n",
       "       [ 8.95989696e-14,  1.03581172e-13,  1.39822138e-14,\n",
       "        -5.00281051e-22, -1.12658815e-21]])"
      ]
     },
     "execution_count": 22,
     "metadata": {},
     "output_type": "execute_result"
    }
   ],
   "source": [
    "A, res, rank, singular_values = np.linalg.lstsq(c, dcdt, rcond = None)\n",
    "#This here solves the least-squares regression:\n",
    "# cA^\\top \\approx dc/dt\n",
    "#A is the empirical HiPPO matrix\n",
    "A"
   ]
  },
  {
   "cell_type": "code",
   "execution_count": 23,
   "id": "e96b02d4",
   "metadata": {},
   "outputs": [
    {
     "data": {
      "text/plain": [
       "<matplotlib.colorbar.Colorbar at 0x17847966450>"
      ]
     },
     "execution_count": 23,
     "metadata": {},
     "output_type": "execute_result"
    },
    {
     "data": {
      "image/png": "[encoded data removed]",
      "text/plain": [
       "<Figure size 480x480 with 2 Axes>"
      ]
     },
     "metadata": {},
     "output_type": "display_data"
    }
   ],
   "source": [
    "pp.matshow(A, norm=TwoSlopeNorm(0), cmap=\"coolwarm\")\n",
    "pp.colorbar()"
   ]
  }
 ],
 "metadata": {
  "kernelspec": {
   "display_name": "Python 3",
   "language": "python",
   "name": "python3"
  },
  "language_info": {
   "codemirror_mode": {
    "name": "ipython",
    "version": 3
   },
   "file_extension": ".py",
   "mimetype": "text/x-python",
   "name": "python",
   "nbconvert_exporter": "python",
   "pygments_lexer": "ipython3",
   "version": "3.12.0"
  }
 },
 "nbformat": 4,
 "nbformat_minor": 5
}
